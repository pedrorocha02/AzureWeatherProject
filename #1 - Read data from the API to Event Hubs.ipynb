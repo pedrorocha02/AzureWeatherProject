{
 "cells": [
  {
   "cell_type": "code",
   "execution_count": 0,
   "metadata": {
    "application/vnd.databricks.v1+cell": {
     "cellMetadata": {
      "byteLimit": 2048000,
      "rowLimit": 10000
     },
     "inputWidgets": {},
     "nuid": "cfba00b5-a8e5-4bfa-b336-23c4421ce0e7",
     "showTitle": false,
     "tableResultSettingsMap": {},
     "title": ""
    }
   },
   "outputs": [],
   "source": [
    "%python\n",
    "%pip install azure-eventhub"
   ]
  },
  {
   "cell_type": "code",
   "execution_count": 0,
   "metadata": {
    "application/vnd.databricks.v1+cell": {
     "cellMetadata": {
      "byteLimit": 2048000,
      "rowLimit": 10000
     },
     "inputWidgets": {},
     "nuid": "ee471b88-20ab-49c6-84ce-6594b1dbfc44",
     "showTitle": false,
     "tableResultSettingsMap": {},
     "title": ""
    }
   },
   "outputs": [],
   "source": [
    "dbutils.library.restartPython() "
   ]
  },
  {
   "cell_type": "code",
   "execution_count": 0,
   "metadata": {
    "application/vnd.databricks.v1+cell": {
     "cellMetadata": {
      "byteLimit": 2048000,
      "rowLimit": 10000
     },
     "inputWidgets": {},
     "nuid": "8dabbf17-2569-47d1-9e5d-d6b7112dd3a4",
     "showTitle": false,
     "tableResultSettingsMap": {},
     "title": ""
    }
   },
   "outputs": [],
   "source": [
    "from azure.eventhub import EventHubProducerClient, EventData\n",
    "import requests\n",
    "import json\n",
    "\n",
    "import os\n",
    "\n",
    "# OpenWeatherMap API Config\n",
    "# Obtain Azure Key Vault access key\n",
    "\n",
    "WEATHER_API_KEY = os.getenv(\"WEATHER_API_KEY\")\n",
    "CITY = \"Porto\"\n",
    "URL = f\"http://api.openweathermap.org/data/2.5/weather?q={CITY}&appid={WEATHER_API_KEY}\"\n",
    "\n",
    "# Event Hubs Config\n",
    "CONNECTION_STRING = os.getenv(\"CONNECTION_STRING\")\n",
    "EVENT_HUB_NAME =  \"weather-data\"\n",
    "\n",
    "# Capture data from OpenWeatherMap API\n",
    "response = requests.get(URL)\n",
    "weather_data = response.json()\n",
    "\n",
    "print(\"Dados meteorológicos capturados:\", weather_data)\n",
    "\n",
    "# Create a Event Hub Producer Client\n",
    "producer = EventHubProducerClient.from_connection_string(\n",
    "    conn_str=CONNECTION_STRING,\n",
    "    eventhub_name=EVENT_HUB_NAME\n",
    ")\n",
    "\n",
    "# Send a single mensage to all the subscribers\n",
    "try:\n",
    "    event_data_batch = producer.create_batch()\n",
    "    event_data_batch.add(EventData(json.dumps(weather_data)))\n",
    "    producer.send_batch(event_data_batch)\n",
    "    print(\"Mensagem enviada com sucesso ao Event Hub!\")\n",
    "finally:\n",
    "    producer.close()\n"
   ]
  }
 ],
 "metadata": {
  "application/vnd.databricks.v1+notebook": {
   "computePreferences": null,
   "dashboards": [],
   "environmentMetadata": {
    "base_environment": "",
    "environment_version": "2"
   },
   "language": "python",
   "notebookMetadata": {
    "pythonIndentUnit": 4
   },
   "notebookName": "#1 - Read data from the API to Event Hubs",
   "widgets": {}
  },
  "language_info": {
   "name": "python"
  }
 },
 "nbformat": 4,
 "nbformat_minor": 0
}
