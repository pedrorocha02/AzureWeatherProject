{
 "cells": [
  {
   "cell_type": "code",
   "execution_count": 0,
   "metadata": {
    "application/vnd.databricks.v1+cell": {
     "cellMetadata": {
      "byteLimit": 2048000,
      "rowLimit": 10000
     },
     "inputWidgets": {},
     "nuid": "319f7935-8fd5-417c-a7b2-dafe2da28b49",
     "showTitle": false,
     "tableResultSettingsMap": {},
     "title": ""
    }
   },
   "outputs": [],
   "source": [
    "%pip install azure-eventhub"
   ]
  },
  {
   "cell_type": "code",
   "execution_count": 0,
   "metadata": {
    "application/vnd.databricks.v1+cell": {
     "cellMetadata": {
      "byteLimit": 2048000,
      "rowLimit": 10000
     },
     "inputWidgets": {},
     "nuid": "dbbf807a-31c5-4545-8bc2-f2456b54d5c6",
     "showTitle": false,
     "tableResultSettingsMap": {},
     "title": ""
    }
   },
   "outputs": [],
   "source": [
    "dbutils.library.restartPython()"
   ]
  },
  {
   "cell_type": "markdown",
   "metadata": {
    "application/vnd.databricks.v1+cell": {
     "cellMetadata": {
      "byteLimit": 2048000,
      "rowLimit": 10000
     },
     "inputWidgets": {},
     "nuid": "6b6a8aa1-2af1-443c-b91b-cbd19d1204be",
     "showTitle": false,
     "tableResultSettingsMap": {},
     "title": ""
    }
   },
   "source": [
    "Subscrever o EventHubs e armazenar no BlobStorage "
   ]
  },
  {
   "cell_type": "code",
   "execution_count": 0,
   "metadata": {
    "application/vnd.databricks.v1+cell": {
     "cellMetadata": {
      "byteLimit": 2048000,
      "rowLimit": 10000
     },
     "inputWidgets": {},
     "nuid": "1ddc8379-4812-4e3a-88dd-62c56d27a6cb",
     "showTitle": false,
     "tableResultSettingsMap": {},
     "title": ""
    }
   },
   "outputs": [],
   "source": [
    "from azure.eventhub import EventHubConsumerClient\n",
    "from azure.storage.blob import BlobServiceClient\n",
    "import json\n",
    "import pandas as pd\n",
    "import io\n",
    "\n",
    "import os\n",
    "\n",
    "# Azure Event Hubs Config\n",
    "EVENT_HUB_CONNECTION_STRING = os.getenv(\"EVENT_HUB_CONNECTION_STRING\")\n",
    "EVENT_HUB_NAME = \"weather-data\"\n",
    "CONSUMER_GROUP = \"$Default\"\n",
    "\n",
    "# Azure Blob Storage Config\n",
    "BLOB_CONNECTION_STRING = os.getenv(\"BLOB_CONNECTION_STRING\")\n",
    "BLOB_CONTAINER = \"weather-data\"\n",
    "BLOB_NAME = \"weather-data.parquet\"\n",
    "\n",
    "# Blob Container Config\n",
    "blob_service_client = BlobServiceClient.from_connection_string(BLOB_CONNECTION_STRING)\n",
    "container_client = blob_service_client.get_container_client(BLOB_CONTAINER)\n",
    "client = EventHubConsumerClient.from_connection_string(EVENT_HUB_CONNECTION_STRING, CONSUMER_GROUP, eventhub_name=EVENT_HUB_NAME)\n",
    "\n",
    "# Awaits for the producer to send new data through the Event Hubs\n",
    "def on_event_batch(partition_context, events):\n",
    "    new_data = []\n",
    "\n",
    "    for event in events:\n",
    "        event_data = event.body_as_str()\n",
    "        print(f\"Recebido: {event_data}\")\n",
    "        new_data.append(event_data)\n",
    "    \n",
    "    if not new_data:\n",
    "        return\n",
    "    \n",
    "    # Convert new data in a dataframe\n",
    "    new_df = pd.DataFrame([eval(event) for event in new_data])\n",
    "    \n",
    "    # Read existing data (If there is already data)\n",
    "    try:\n",
    "        blob_client = container_client.get_blob_client(BLOB_NAME)\n",
    "        existing_data = io.BytesIO()\n",
    "        blob_client.download_blob().readinto(existing_data)\n",
    "        df_existing = pd.read_parquet(existing_data)\n",
    "        \n",
    "        # Add new data to existing data\n",
    "        df_final = pd.concat([df_existing, new_df], ignore_index=True)\n",
    "    except Exception:\n",
    "        print(\"New Parquet file created.\")\n",
    "        df_final = new_df\n",
    "    \n",
    "    # Save the DataFrame in Blob Storage\n",
    "    output = io.BytesIO()\n",
    "    df_final.to_parquet(output, engine=\"pyarrow\", index=False)\n",
    "    output.seek(0)\n",
    "    blob_client.upload_blob(output, overwrite=True)\n",
    "    print(f\"Data stored in Blob Storage: {BLOB_NAME}\")\n",
    "\n",
    "# Receive event\n",
    "client.receive_batch(on_event_batch, max_batch_size=1, starting_position=\"-1\")\n",
    "\n",
    "# Close client\n",
    "client.close()"
   ]
  }
 ],
 "metadata": {
  "application/vnd.databricks.v1+notebook": {
   "computePreferences": null,
   "dashboards": [],
   "environmentMetadata": {
    "base_environment": "",
    "environment_version": "2"
   },
   "language": "python",
   "notebookMetadata": {
    "pythonIndentUnit": 4
   },
   "notebookName": "#2 - Read and store the Event Hubs data in the Blob Storage",
   "widgets": {}
  },
  "language_info": {
   "name": "python"
  }
 },
 "nbformat": 4,
 "nbformat_minor": 0
}
